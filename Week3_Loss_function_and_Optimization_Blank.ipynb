{
  "cells": [
    {
      "cell_type": "markdown",
      "metadata": {
        "id": "view-in-github",
        "colab_type": "text"
      },
      "source": [
        "<a href=\"https://colab.research.google.com/github/Vetair/MVexercises/blob/main/Week3_Loss_function_and_Optimization_Blank.ipynb\" target=\"_parent\"><img src=\"https://colab.research.google.com/assets/colab-badge.svg\" alt=\"Open In Colab\"/></a>"
      ]
    },
    {
      "cell_type": "code",
      "source": [
        "from google.colab import drive\n",
        "drive.mount('/content/drive')"
      ],
      "metadata": {
        "id": "gec1Vggbp8FD",
        "colab": {
          "base_uri": "https://localhost:8080/"
        },
        "outputId": "7498b3ab-9fbe-4dfb-b15b-acdc1942415d"
      },
      "execution_count": 2,
      "outputs": [
        {
          "output_type": "stream",
          "name": "stdout",
          "text": [
            "Mounted at /content/drive\n"
          ]
        }
      ]
    },
    {
      "cell_type": "markdown",
      "metadata": {
        "id": "B3cKwfM7pfps"
      },
      "source": [
        "# Loss Function and Optimization: Linear Regression\n",
        "\n",
        "Welcome to this seminar lab! In this lab, you will implement linear regression with one variable to predict profits for a restaurant franchise.\n",
        "\n"
      ]
    },
    {
      "cell_type": "markdown",
      "metadata": {
        "id": "mH65on-dpfqR"
      },
      "source": [
        "<a name=\"1\"></a>\n",
        "## 1 - Packages\n",
        "\n",
        "First, let's run the cell below to import all the packages that you will need during this assignment.\n",
        "- [numpy](https://numpy.org/) is the fundamental package for working with matrices in Python.\n",
        "- [Pandas](https://pandas.pydata.org/) is the fundamental package for working with csv and text files and data frames in Python.\n",
        "- [matplotlib](https://matplotlib.org/) is a famous library to plot graphs in Python.\n",
        "- ``utils.py`` contains helper functions for this assignment. You do not need to modify code in this file.\n"
      ]
    },
    {
      "cell_type": "code",
      "execution_count": 3,
      "metadata": {
        "id": "cVUJEwFDpfqZ"
      },
      "outputs": [],
      "source": [
        "import numpy as np\n",
        "import pandas as pd\n",
        "import matplotlib.pyplot as plt\n",
        "import copy\n",
        "import math\n",
        "%matplotlib inline"
      ]
    },
    {
      "cell_type": "markdown",
      "metadata": {
        "id": "suO_LJKWpfqb"
      },
      "source": [
        "## 2 -  Problem Statement\n",
        "\n",
        "Suppose you are the CEO of a restaurant franchise in China and are considering different cities for opening a new outlet.\n",
        "- You would like to expand your business to cities that may give your restaurant higher profits.\n",
        "- The chain already has restaurants in various cities and you have data for profits and populations from the cities.\n",
        "- You also have data on cities that are candidates for a new restaurant.\n",
        "    - For these cities, you have the city population.\n",
        "    \n",
        "Can you use the data to help you identify which cities may potentially give your business higher profits?\n",
        "\n"
      ]
    },
    {
      "cell_type": "markdown",
      "metadata": {
        "id": "MCjwZTjXpfqb"
      },
      "source": [
        "## 3 - Dataset\n",
        "\n",
        "You will start by loading the dataset for this task.\n",
        "- The `read_csv()` function shown below loads the data into variables df\n",
        "  - Assign `x_train` to the population of a city\n",
        "  - Assign `y_train` to the profit of a restaurant in that city. A negative value for profit indicates a loss.   \n",
        "  "
      ]
    },
    {
      "cell_type": "code",
      "execution_count": 4,
      "metadata": {
        "id": "Kus7iCnEpfqc"
      },
      "outputs": [],
      "source": [
        "# Read the dataset\n",
        "df=pd.read_csv(r'/content/drive/MyDrive/Colab Notebooks/Datasets/data1_0.txt') #Loading the data"
      ]
    },
    {
      "cell_type": "code",
      "execution_count": 5,
      "metadata": {
        "id": "i9lZsvfUpfqd",
        "colab": {
          "base_uri": "https://localhost:8080/",
          "height": 206
        },
        "outputId": "ed997ebc-e456-40ed-c6a7-884971a9afbb"
      },
      "outputs": [
        {
          "output_type": "execute_result",
          "data": {
            "text/plain": [
              "   Population   Profit\n",
              "0      6.1101  17.5920\n",
              "1      5.5277   9.1302\n",
              "2      8.5186  13.6620\n",
              "3      7.0032  11.8540\n",
              "4      5.8598   6.8233"
            ],
            "text/html": [
              "\n",
              "  <div id=\"df-07aff36f-ee10-419f-8040-fbc86c40d168\" class=\"colab-df-container\">\n",
              "    <div>\n",
              "<style scoped>\n",
              "    .dataframe tbody tr th:only-of-type {\n",
              "        vertical-align: middle;\n",
              "    }\n",
              "\n",
              "    .dataframe tbody tr th {\n",
              "        vertical-align: top;\n",
              "    }\n",
              "\n",
              "    .dataframe thead th {\n",
              "        text-align: right;\n",
              "    }\n",
              "</style>\n",
              "<table border=\"1\" class=\"dataframe\">\n",
              "  <thead>\n",
              "    <tr style=\"text-align: right;\">\n",
              "      <th></th>\n",
              "      <th>Population</th>\n",
              "      <th>Profit</th>\n",
              "    </tr>\n",
              "  </thead>\n",
              "  <tbody>\n",
              "    <tr>\n",
              "      <th>0</th>\n",
              "      <td>6.1101</td>\n",
              "      <td>17.5920</td>\n",
              "    </tr>\n",
              "    <tr>\n",
              "      <th>1</th>\n",
              "      <td>5.5277</td>\n",
              "      <td>9.1302</td>\n",
              "    </tr>\n",
              "    <tr>\n",
              "      <th>2</th>\n",
              "      <td>8.5186</td>\n",
              "      <td>13.6620</td>\n",
              "    </tr>\n",
              "    <tr>\n",
              "      <th>3</th>\n",
              "      <td>7.0032</td>\n",
              "      <td>11.8540</td>\n",
              "    </tr>\n",
              "    <tr>\n",
              "      <th>4</th>\n",
              "      <td>5.8598</td>\n",
              "      <td>6.8233</td>\n",
              "    </tr>\n",
              "  </tbody>\n",
              "</table>\n",
              "</div>\n",
              "    <div class=\"colab-df-buttons\">\n",
              "\n",
              "  <div class=\"colab-df-container\">\n",
              "    <button class=\"colab-df-convert\" onclick=\"convertToInteractive('df-07aff36f-ee10-419f-8040-fbc86c40d168')\"\n",
              "            title=\"Convert this dataframe to an interactive table.\"\n",
              "            style=\"display:none;\">\n",
              "\n",
              "  <svg xmlns=\"http://www.w3.org/2000/svg\" height=\"24px\" viewBox=\"0 -960 960 960\">\n",
              "    <path d=\"M120-120v-720h720v720H120Zm60-500h600v-160H180v160Zm220 220h160v-160H400v160Zm0 220h160v-160H400v160ZM180-400h160v-160H180v160Zm440 0h160v-160H620v160ZM180-180h160v-160H180v160Zm440 0h160v-160H620v160Z\"/>\n",
              "  </svg>\n",
              "    </button>\n",
              "\n",
              "  <style>\n",
              "    .colab-df-container {\n",
              "      display:flex;\n",
              "      gap: 12px;\n",
              "    }\n",
              "\n",
              "    .colab-df-convert {\n",
              "      background-color: #E8F0FE;\n",
              "      border: none;\n",
              "      border-radius: 50%;\n",
              "      cursor: pointer;\n",
              "      display: none;\n",
              "      fill: #1967D2;\n",
              "      height: 32px;\n",
              "      padding: 0 0 0 0;\n",
              "      width: 32px;\n",
              "    }\n",
              "\n",
              "    .colab-df-convert:hover {\n",
              "      background-color: #E2EBFA;\n",
              "      box-shadow: 0px 1px 2px rgba(60, 64, 67, 0.3), 0px 1px 3px 1px rgba(60, 64, 67, 0.15);\n",
              "      fill: #174EA6;\n",
              "    }\n",
              "\n",
              "    .colab-df-buttons div {\n",
              "      margin-bottom: 4px;\n",
              "    }\n",
              "\n",
              "    [theme=dark] .colab-df-convert {\n",
              "      background-color: #3B4455;\n",
              "      fill: #D2E3FC;\n",
              "    }\n",
              "\n",
              "    [theme=dark] .colab-df-convert:hover {\n",
              "      background-color: #434B5C;\n",
              "      box-shadow: 0px 1px 3px 1px rgba(0, 0, 0, 0.15);\n",
              "      filter: drop-shadow(0px 1px 2px rgba(0, 0, 0, 0.3));\n",
              "      fill: #FFFFFF;\n",
              "    }\n",
              "  </style>\n",
              "\n",
              "    <script>\n",
              "      const buttonEl =\n",
              "        document.querySelector('#df-07aff36f-ee10-419f-8040-fbc86c40d168 button.colab-df-convert');\n",
              "      buttonEl.style.display =\n",
              "        google.colab.kernel.accessAllowed ? 'block' : 'none';\n",
              "\n",
              "      async function convertToInteractive(key) {\n",
              "        const element = document.querySelector('#df-07aff36f-ee10-419f-8040-fbc86c40d168');\n",
              "        const dataTable =\n",
              "          await google.colab.kernel.invokeFunction('convertToInteractive',\n",
              "                                                    [key], {});\n",
              "        if (!dataTable) return;\n",
              "\n",
              "        const docLinkHtml = 'Like what you see? Visit the ' +\n",
              "          '<a target=\"_blank\" href=https://colab.research.google.com/notebooks/data_table.ipynb>data table notebook</a>'\n",
              "          + ' to learn more about interactive tables.';\n",
              "        element.innerHTML = '';\n",
              "        dataTable['output_type'] = 'display_data';\n",
              "        await google.colab.output.renderOutput(dataTable, element);\n",
              "        const docLink = document.createElement('div');\n",
              "        docLink.innerHTML = docLinkHtml;\n",
              "        element.appendChild(docLink);\n",
              "      }\n",
              "    </script>\n",
              "  </div>\n",
              "\n",
              "\n",
              "<div id=\"df-095088a4-7c20-4bdf-90ba-1cd7cc4bbbd8\">\n",
              "  <button class=\"colab-df-quickchart\" onclick=\"quickchart('df-095088a4-7c20-4bdf-90ba-1cd7cc4bbbd8')\"\n",
              "            title=\"Suggest charts.\"\n",
              "            style=\"display:none;\">\n",
              "\n",
              "<svg xmlns=\"http://www.w3.org/2000/svg\" height=\"24px\"viewBox=\"0 0 24 24\"\n",
              "     width=\"24px\">\n",
              "    <g>\n",
              "        <path d=\"M19 3H5c-1.1 0-2 .9-2 2v14c0 1.1.9 2 2 2h14c1.1 0 2-.9 2-2V5c0-1.1-.9-2-2-2zM9 17H7v-7h2v7zm4 0h-2V7h2v10zm4 0h-2v-4h2v4z\"/>\n",
              "    </g>\n",
              "</svg>\n",
              "  </button>\n",
              "\n",
              "<style>\n",
              "  .colab-df-quickchart {\n",
              "      --bg-color: #E8F0FE;\n",
              "      --fill-color: #1967D2;\n",
              "      --hover-bg-color: #E2EBFA;\n",
              "      --hover-fill-color: #174EA6;\n",
              "      --disabled-fill-color: #AAA;\n",
              "      --disabled-bg-color: #DDD;\n",
              "  }\n",
              "\n",
              "  [theme=dark] .colab-df-quickchart {\n",
              "      --bg-color: #3B4455;\n",
              "      --fill-color: #D2E3FC;\n",
              "      --hover-bg-color: #434B5C;\n",
              "      --hover-fill-color: #FFFFFF;\n",
              "      --disabled-bg-color: #3B4455;\n",
              "      --disabled-fill-color: #666;\n",
              "  }\n",
              "\n",
              "  .colab-df-quickchart {\n",
              "    background-color: var(--bg-color);\n",
              "    border: none;\n",
              "    border-radius: 50%;\n",
              "    cursor: pointer;\n",
              "    display: none;\n",
              "    fill: var(--fill-color);\n",
              "    height: 32px;\n",
              "    padding: 0;\n",
              "    width: 32px;\n",
              "  }\n",
              "\n",
              "  .colab-df-quickchart:hover {\n",
              "    background-color: var(--hover-bg-color);\n",
              "    box-shadow: 0 1px 2px rgba(60, 64, 67, 0.3), 0 1px 3px 1px rgba(60, 64, 67, 0.15);\n",
              "    fill: var(--button-hover-fill-color);\n",
              "  }\n",
              "\n",
              "  .colab-df-quickchart-complete:disabled,\n",
              "  .colab-df-quickchart-complete:disabled:hover {\n",
              "    background-color: var(--disabled-bg-color);\n",
              "    fill: var(--disabled-fill-color);\n",
              "    box-shadow: none;\n",
              "  }\n",
              "\n",
              "  .colab-df-spinner {\n",
              "    border: 2px solid var(--fill-color);\n",
              "    border-color: transparent;\n",
              "    border-bottom-color: var(--fill-color);\n",
              "    animation:\n",
              "      spin 1s steps(1) infinite;\n",
              "  }\n",
              "\n",
              "  @keyframes spin {\n",
              "    0% {\n",
              "      border-color: transparent;\n",
              "      border-bottom-color: var(--fill-color);\n",
              "      border-left-color: var(--fill-color);\n",
              "    }\n",
              "    20% {\n",
              "      border-color: transparent;\n",
              "      border-left-color: var(--fill-color);\n",
              "      border-top-color: var(--fill-color);\n",
              "    }\n",
              "    30% {\n",
              "      border-color: transparent;\n",
              "      border-left-color: var(--fill-color);\n",
              "      border-top-color: var(--fill-color);\n",
              "      border-right-color: var(--fill-color);\n",
              "    }\n",
              "    40% {\n",
              "      border-color: transparent;\n",
              "      border-right-color: var(--fill-color);\n",
              "      border-top-color: var(--fill-color);\n",
              "    }\n",
              "    60% {\n",
              "      border-color: transparent;\n",
              "      border-right-color: var(--fill-color);\n",
              "    }\n",
              "    80% {\n",
              "      border-color: transparent;\n",
              "      border-right-color: var(--fill-color);\n",
              "      border-bottom-color: var(--fill-color);\n",
              "    }\n",
              "    90% {\n",
              "      border-color: transparent;\n",
              "      border-bottom-color: var(--fill-color);\n",
              "    }\n",
              "  }\n",
              "</style>\n",
              "\n",
              "  <script>\n",
              "    async function quickchart(key) {\n",
              "      const quickchartButtonEl =\n",
              "        document.querySelector('#' + key + ' button');\n",
              "      quickchartButtonEl.disabled = true;  // To prevent multiple clicks.\n",
              "      quickchartButtonEl.classList.add('colab-df-spinner');\n",
              "      try {\n",
              "        const charts = await google.colab.kernel.invokeFunction(\n",
              "            'suggestCharts', [key], {});\n",
              "      } catch (error) {\n",
              "        console.error('Error during call to suggestCharts:', error);\n",
              "      }\n",
              "      quickchartButtonEl.classList.remove('colab-df-spinner');\n",
              "      quickchartButtonEl.classList.add('colab-df-quickchart-complete');\n",
              "    }\n",
              "    (() => {\n",
              "      let quickchartButtonEl =\n",
              "        document.querySelector('#df-095088a4-7c20-4bdf-90ba-1cd7cc4bbbd8 button');\n",
              "      quickchartButtonEl.style.display =\n",
              "        google.colab.kernel.accessAllowed ? 'block' : 'none';\n",
              "    })();\n",
              "  </script>\n",
              "</div>\n",
              "    </div>\n",
              "  </div>\n"
            ]
          },
          "metadata": {},
          "execution_count": 5
        }
      ],
      "source": [
        "#printing the head of the data using \"df.head()\"\n",
        "df.head() # \" Write the code here\""
      ]
    },
    {
      "cell_type": "code",
      "execution_count": 6,
      "metadata": {
        "id": "wg7e0l86pfqd"
      },
      "outputs": [],
      "source": [
        "# Assign x_train to ['Population'], and assign  y_train to ['Profit']\n",
        "x_train, y_train = df['Population'], df['Profit'] # \" write the code here\""
      ]
    },
    {
      "cell_type": "markdown",
      "metadata": {
        "id": "31g1Xpdmpfqe"
      },
      "source": [
        "#### View the variables\n",
        "Before starting on any task, it is useful to get more familiar with your dataset.  \n",
        "- A good place to start is to just print out each variable and see what it contains.\n",
        "\n",
        "The code below prints the variable `x_train` and `y_train` and the type of the variable.\n",
        "\n",
        "\n",
        "The variables have decimal values, some negative, some positive.\n",
        "- These represent your restaurant's average monthly profits in each city, in units of \\$10,000.\n",
        "  - For example, 17.592 represents \\$175,920 in average monthly profits for that city.\n",
        "  - -2.6807 represents -\\$26,807 in average monthly loss for that city."
      ]
    },
    {
      "cell_type": "code",
      "execution_count": 7,
      "metadata": {
        "id": "rYxQV0eQpfqf",
        "colab": {
          "base_uri": "https://localhost:8080/"
        },
        "outputId": "f91aa29f-3cde-4f4c-ed89-b38a807c92c2"
      },
      "outputs": [
        {
          "output_type": "execute_result",
          "data": {
            "text/plain": [
              "0    6.1101\n",
              "1    5.5277\n",
              "2    8.5186\n",
              "3    7.0032\n",
              "4    5.8598\n",
              "Name: Population, dtype: float64"
            ]
          },
          "metadata": {},
          "execution_count": 7
        }
      ],
      "source": [
        "# print the first 5 entries of x_train\n",
        "\n",
        "x_train[:5] # \"Write the code here\""
      ]
    },
    {
      "cell_type": "code",
      "execution_count": 9,
      "metadata": {
        "id": "MFFqONncpfqf",
        "colab": {
          "base_uri": "https://localhost:8080/"
        },
        "outputId": "a541bc22-f734-4a2b-c9c0-9369202cda3f"
      },
      "outputs": [
        {
          "output_type": "execute_result",
          "data": {
            "text/plain": [
              "0    17.5920\n",
              "1     9.1302\n",
              "2    13.6620\n",
              "3    11.8540\n",
              "4     6.8233\n",
              "Name: Profit, dtype: float64"
            ]
          },
          "metadata": {},
          "execution_count": 9
        }
      ],
      "source": [
        "# print the first 5 entries of y_train\n",
        "\n",
        "y_train[:5] # \"Write the code here\""
      ]
    },
    {
      "cell_type": "markdown",
      "metadata": {
        "id": "CFW4_vImpfqh"
      },
      "source": [
        "#### Check the dimensions of your variables\n",
        "\n",
        "Another useful way to get familiar with your data is to view its dimensions.\n",
        "\n",
        "Please print the shape of `x_train` and `y_train` and see how many training examples you have in your dataset."
      ]
    },
    {
      "cell_type": "code",
      "execution_count": 10,
      "metadata": {
        "id": "oTRYplrnpfqh",
        "colab": {
          "base_uri": "https://localhost:8080/"
        },
        "outputId": "25aa00df-12a3-42c2-d550-9fb50a1eed51"
      },
      "outputs": [
        {
          "output_type": "stream",
          "name": "stdout",
          "text": [
            "(97,)\n",
            "(97,)\n",
            "Total number of training examples (m): 97\n"
          ]
        }
      ],
      "source": [
        "print (x_train.shape)\n",
        "print (y_train.shape)\n",
        "print ('Total number of training examples (m):', len(x_train))"
      ]
    },
    {
      "cell_type": "markdown",
      "metadata": {
        "id": "dvTkgd7tpfqi"
      },
      "source": [
        "The city population array has 97 data points, and the monthly average profits also has 97 data points. These are NumPy 1D arrays."
      ]
    },
    {
      "cell_type": "markdown",
      "metadata": {
        "id": "dnPrPARDpfqk"
      },
      "source": [
        "#### Visualize your data\n",
        "\n",
        "It is often useful to understand the data by visualizing it.\n",
        "- For this dataset, you can use a scatter plot 'plt.scatter()' to visualize the data, since it has only two properties to plot (profit and population).\n",
        "- Many other problems that you will encounter in real life have more than two properties (for example, population, average household income, monthly profits, monthly sales).When you have more than two properties, you can still use a scatter plot to see the relationship between each pair of properties.\n",
        "\n",
        "Use marker to change the point to 'X' and c to change the color to 'r', use 'Profits vs. Population per city' as the title.\n",
        "Use 'Population of City in 10,000s' as the x-label and 'Profit in $10,000' as the y-label\n"
      ]
    },
    {
      "cell_type": "code",
      "execution_count": 11,
      "metadata": {
        "id": "IHzSwp5wpfqk",
        "colab": {
          "base_uri": "https://localhost:8080/",
          "height": 472
        },
        "outputId": "220189a5-24d4-4fa5-813d-4152d8b8e890"
      },
      "outputs": [
        {
          "output_type": "display_data",
          "data": {
            "text/plain": [
              "<Figure size 640x480 with 1 Axes>"
            ],
            "image/png": "[encoded data removed]"
          },
          "metadata": {}
        }
      ],
      "source": [
        "plt.scatter(x_train, y_train, marker='x', c='r')\n",
        "plt.title('Profits vs. Population per city')\n",
        "plt.xlabel('Population of City in 10,000s')\n",
        "plt.ylabel('Profit in $10,000')\n",
        "plt.show()"
      ]
    },
    {
      "cell_type": "markdown",
      "metadata": {
        "id": "GFOdD2Ilpfql"
      },
      "source": [
        "The goal is to build a linear regression model to fit this data.\n",
        "- With this model, you can then input a new city's population, and have the model estimate your restaurant's potential monthly profits for that city."
      ]
    },
    {
      "cell_type": "markdown",
      "metadata": {
        "id": "JD9SetNCpfql"
      },
      "source": [
        "<a name=\"4\"></a>\n",
        "## 4 - Refresher on linear regression\n",
        "\n",
        "In this practice lab, you will fit the linear regression parameters $(w,b)$ to your dataset.\n",
        "- The model function for linear regression, which is a function that maps from `x` (city population) to `y` (your restaurant's monthly profit for that city) is represented as\n",
        "    $$f_{w,b}(x) = wx + b$$\n",
        "    \n",
        "\n",
        "- To train a linear regression model, you want to find the best $(w,b)$ parameters that fit your dataset.  \n",
        "\n",
        "    - To compare how one choice of $(w,b)$ is better or worse than another choice, you can evaluate it with a cost function $J(w,b)$\n",
        "      - $J$ is a function of $(w,b)$. That is, the value of the cost $J(w,b)$ depends on the value of $(w,b)$.\n",
        "  \n",
        "    - The choice of $(w,b)$ that fits your data the best is the one that has the smallest cost $J(w,b)$.\n",
        "\n",
        "\n",
        "- To find the values $(w,b)$ that gets the smallest possible cost $J(w,b)$, you can use a method called **gradient descent**.\n",
        "  - With each step of gradient descent, your parameters $(w,b)$ come closer to the optimal values that will achieve the lowest cost $J(w,b)$.\n",
        "  \n",
        "\n",
        "- The trained linear regression model can then take the input feature $x$ (city population) and output a prediction $f_{w,b}(x)$ (predicted monthly profit for a restaurant in that city)."
      ]
    },
    {
      "cell_type": "markdown",
      "metadata": {
        "id": "66mmS2slpfqm"
      },
      "source": [
        "<a name=\"5\"></a>\n",
        "## 5 - Compute Cost\n",
        "\n",
        "Gradient descent involves repeated steps to adjust the value of your parameter $(w,b)$ to gradually get a smaller and smaller cost $J(w,b)$.\n",
        "- At each step of gradient descent, it will be helpful for you to monitor your progress by computing the cost $J(w,b)$ as $(w,b)$ gets updated.\n",
        "- In this section, you will implement a function to calculate $J(w,b)$ so that you can check the progress of your gradient descent implementation.\n",
        "\n",
        "#### Cost function\n",
        "As you may recall from the lecture, for one variable, the cost function for linear regression $J(w,b)$ is defined as\n",
        "\n",
        "$$J(w,b) = \\frac{1}{2m} \\sum\\limits_{i = 0}^{m-1} (f_{w,b}(x^{(i)}) - y^{(i)})^2$$\n",
        "\n",
        "- You can think of $f_{w,b}(x^{(i)})$ as the model's prediction of your restaurant's profit, as opposed to $y^{(i)}$, which is the actual profit that is recorded in the data.\n",
        "- $m$ is the number of training examples in the dataset\n",
        "\n",
        "#### Model prediction\n",
        "\n",
        "- For linear regression with one variable, the prediction of the model $f_{w,b}$ for an example $x^{(i)}$ is representented as:\n",
        "\n",
        "$$ f_{w,b}(x^{(i)}) = wx^{(i)} + b$$\n",
        "\n",
        "This is the equation for a line, with an intercept $b$ and a slope $w$\n",
        "\n",
        "#### Implementation\n",
        "\n",
        "Please complete the `compute_cost()` function below to compute the cost $J(w,b)$."
      ]
    },
    {
      "cell_type": "markdown",
      "metadata": {
        "id": "9IkfldUgpfqo"
      },
      "source": [
        "<a name=\"ex01\"></a>\n",
        "### Exercise 1\n",
        "\n",
        "Complete the `compute_cost` below to:\n",
        "\n",
        "* Iterate over the training examples, and for each example, compute:\n",
        "    * The prediction of the model for that example\n",
        "    $$\n",
        "    f_{wb}(x^{(i)}) =  wx^{(i)} + b\n",
        "    $$\n",
        "   \n",
        "    * The cost for that example  $$cost^{(i)} =  (f_{wb} - y^{(i)})^2$$\n",
        "    \n",
        "\n",
        "* Return the total cost over all examples\n",
        "$$J(\\mathbf{w},b) = \\frac{1}{2m} \\sum\\limits_{i = 0}^{m-1} cost^{(i)}$$\n",
        "  * Here, $m$ is the number of training examples and $\\sum$ is the summation operator\n"
      ]
    },
    {
      "cell_type": "code",
      "execution_count": 12,
      "metadata": {
        "id": "dZgNLvmkpfqp"
      },
      "outputs": [],
      "source": [
        "# UNQ_C1\n",
        "# GRADED FUNCTION: compute_cost\n",
        "\n",
        "def compute_cost(x, y, w, b):\n",
        "    \"\"\"\n",
        "    Computes the cost function for linear regression.\n",
        "\n",
        "    Args:\n",
        "        x (ndarray): Shape (m,) Input to the model (Population of cities)\n",
        "        y (ndarray): Shape (m,) Label (Actual profits for the cities)\n",
        "        w, b (scalar): Parameters of the model\n",
        "\n",
        "    Returns\n",
        "        total_cost (float): The cost of using w,b as the parameters for linear regression\n",
        "               to fit the data points in x and y\n",
        "    \"\"\"\n",
        "    # number of training examples\n",
        "    m = x.shape[0]\n",
        "\n",
        "    # You need to return this variable correctly\n",
        "    total_cost = 0\n",
        "\n",
        "    ### START CODE HERE ###\n",
        "    for i in range(m):\n",
        "        f_wb = w * x[i] + b\n",
        "        cost = (f_wb - y[i])**2\n",
        "        total_cost += cost\n",
        "    total_cost = (1/2*m)*total_cost\n",
        "\n",
        "    ### END CODE HERE ###\n",
        "\n",
        "    return total_cost"
      ]
    },
    {
      "cell_type": "code",
      "execution_count": 13,
      "metadata": {
        "id": "oSpNmEnOpfqq",
        "colab": {
          "base_uri": "https://localhost:8080/"
        },
        "outputId": "b7bb292f-c5c3-412a-b536-3a4db57e0910"
      },
      "outputs": [
        {
          "output_type": "stream",
          "name": "stdout",
          "text": [
            "<class 'numpy.float64'>\n",
            "Cost at initial w: 707588.649\n"
          ]
        }
      ],
      "source": [
        "# Compute cost with some initial values for paramaters w, b\n",
        "initial_w = 2\n",
        "initial_b = 1\n",
        "\n",
        "cost = compute_cost(x_train, y_train, initial_w, initial_b)\n",
        "print(type(cost))\n",
        "print(f'Cost at initial w: {cost:.3f}')\n"
      ]
    },
    {
      "cell_type": "markdown",
      "metadata": {
        "id": "CTWUFr4Hpfqq"
      },
      "source": [
        "<a name=\"6\"></a>\n",
        "## 6 - Gradient descent\n",
        "\n",
        "In this section, you will implement the gradient for parameters $w, b$ for linear regression."
      ]
    },
    {
      "cell_type": "markdown",
      "metadata": {
        "id": "jkFQISsfpfqr"
      },
      "source": [
        "As described in the lecture videos, the gradient descent algorithm is:\n",
        "\n",
        "$$\\begin{align*}& \\text{repeat until convergence:} \\; \\lbrace \\newline \\; & \\phantom {0000} b := b -  \\alpha \\frac{\\partial J(w,b)}{\\partial b} \\newline       \\; & \\phantom {0000} w := w -  \\alpha \\frac{\\partial J(w,b)}{\\partial w} \\tag{1}  \\; &\n",
        "\\newline & \\rbrace\\end{align*}$$\n",
        "\n",
        "where, parameters $w, b$ are both updated simultaniously and where  \n",
        "$$\n",
        "\\frac{\\partial J(w,b)}{\\partial b}  = \\frac{1}{m} \\sum\\limits_{i = 0}^{m-1} (f_{w,b}(x^{(i)}) - y^{(i)}) \\tag{2}\n",
        "$$\n",
        "$$\n",
        "\\frac{\\partial J(w,b)}{\\partial w}  = \\frac{1}{m} \\sum\\limits_{i = 0}^{m-1} (f_{w,b}(x^{(i)}) -y^{(i)})x^{(i)} \\tag{3}\n",
        "$$\n",
        "* m is the number of training examples in the dataset\n",
        "\n",
        "    \n",
        "*  $f_{w,b}(x^{(i)})$ is the model's prediction, while $y^{(i)}$, is the target value\n",
        "\n",
        "\n",
        "You will implement a function called `compute_gradient` which calculates $\\frac{\\partial J(w)}{\\partial w}$, $\\frac{\\partial J(w)}{\\partial b}$"
      ]
    },
    {
      "cell_type": "markdown",
      "metadata": {
        "id": "wmHBuo-Epfqt"
      },
      "source": [
        "<a name=\"ex02\"></a>\n",
        "### Exercise 2\n",
        "\n",
        "Please complete the `compute_gradient` function to:\n",
        "\n",
        "* Iterate over the training examples, and for each example, compute:\n",
        "    * The prediction of the model for that example\n",
        "    $$\n",
        "    f_{wb}(x^{(i)}) =  wx^{(i)} + b\n",
        "    $$\n",
        "   \n",
        "    * The gradient for the parameters $w, b$ from that example\n",
        "        $$\n",
        "        \\frac{\\partial J(w,b)}{\\partial b}^{(i)}  =  (f_{w,b}(x^{(i)}) - y^{(i)})\n",
        "        $$\n",
        "        $$\n",
        "        \\frac{\\partial J(w,b)}{\\partial w}^{(i)}  =  (f_{w,b}(x^{(i)}) -y^{(i)})x^{(i)}\n",
        "        $$\n",
        "    \n",
        "\n",
        "* Return the total gradient update from all the examples\n",
        "    $$\n",
        "    \\frac{\\partial J(w,b)}{\\partial b}  = \\frac{1}{m} \\sum\\limits_{i = 0}^{m-1} \\frac{\\partial J(w,b)}{\\partial b}^{(i)}\n",
        "    $$\n",
        "    \n",
        "    $$\n",
        "    \\frac{\\partial J(w,b)}{\\partial w}  = \\frac{1}{m} \\sum\\limits_{i = 0}^{m-1} \\frac{\\partial J(w,b)}{\\partial w}^{(i)}\n",
        "    $$\n",
        "  * Here, $m$ is the number of training examples and $\\sum$ is the summation operator\n",
        "\n",
        "If you get stuck, you can check out the hints presented after the cell below to help you with the implementation."
      ]
    },
    {
      "cell_type": "code",
      "execution_count": 14,
      "metadata": {
        "id": "K-I7I4QZpfqu"
      },
      "outputs": [],
      "source": [
        "# UNQ_C2\n",
        "# GRADED FUNCTION: compute_gradient\n",
        "def compute_gradient(x, y, w, b):\n",
        "    \"\"\"\n",
        "    Computes the gradient for linear regression\n",
        "    Args:\n",
        "      x (ndarray): Shape (m,) Input to the model (Population of cities)\n",
        "      y (ndarray): Shape (m,) Label (Actual profits for the cities)\n",
        "      w, b (scalar): Parameters of the model\n",
        "    Returns\n",
        "      dj_dw (scalar): The gradient of the cost w.r.t. the parameters w\n",
        "      dj_db (scalar): The gradient of the cost w.r.t. the parameter b\n",
        "     \"\"\"\n",
        "\n",
        "    # Number of training examples\n",
        "    m = x.shape[0]\n",
        "\n",
        "    # You need to return the following variables correctly\n",
        "    dj_dw = 0\n",
        "    dj_db = 0\n",
        "\n",
        "    ### START CODE HERE ###\n",
        "    for i in range(m):\n",
        "      f_wb = w*x[i] + b\n",
        "      dj_db_i = (f_wb - y[i])\n",
        "      dj_dw_i = (f_wb - y[i])*x[i]\n",
        "      dj_db += dj_db_i\n",
        "      dj_dw += dj_dw_i\n",
        "    dj_db = dj_db/m\n",
        "    dj_dw = dj_dw/m\n",
        "\n",
        "    ### END CODE HERE ###\n",
        "\n",
        "    return dj_dw, dj_db"
      ]
    },
    {
      "cell_type": "code",
      "execution_count": 15,
      "metadata": {
        "id": "2KMJuGR6pfqu",
        "colab": {
          "base_uri": "https://localhost:8080/"
        },
        "outputId": "b743ea6b-cf23-4431-9879-d7821e350b82"
      },
      "outputs": [
        {
          "output_type": "stream",
          "name": "stdout",
          "text": [
            "Gradient at initial w, b (zeros): -65.32884974555672 -5.83913505154639\n"
          ]
        }
      ],
      "source": [
        "# Compute and display gradient with w initialized to zeroes\n",
        "initial_w = 0\n",
        "initial_b = 0\n",
        "\n",
        "tmp_dj_dw, tmp_dj_db = compute_gradient(x_train, y_train, initial_w, initial_b)\n",
        "print('Gradient at initial w, b (zeros):', tmp_dj_dw, tmp_dj_db)\n"
      ]
    },
    {
      "cell_type": "code",
      "execution_count": 16,
      "metadata": {
        "id": "uaEYqZ3zpfqv",
        "colab": {
          "base_uri": "https://localhost:8080/"
        },
        "outputId": "99b80e3c-13f1-439e-b2a7-0cb9eb25594a"
      },
      "outputs": [
        {
          "output_type": "stream",
          "name": "stdout",
          "text": [
            "Gradient at test w, b: -47.41610118114435 -4.007175051546391\n"
          ]
        }
      ],
      "source": [
        "# Compute and display cost and gradient with non-zero w\n",
        "test_w = 0.2\n",
        "test_b = 0.2\n",
        "tmp_dj_dw, tmp_dj_db = compute_gradient(x_train, y_train, test_w, test_b)\n",
        "\n",
        "print('Gradient at test w, b:', tmp_dj_dw, tmp_dj_db)"
      ]
    },
    {
      "cell_type": "markdown",
      "metadata": {
        "id": "5xYwzWLipfqv"
      },
      "source": [
        "<a name=\"2.6\"></a>\n",
        "### 2.6 Learning parameters using batch gradient descent\n",
        "\n",
        "You will now find the optimal parameters of a linear regression model by using batch gradient descent. Recall batch refers to running all the examples in one iteration.\n",
        "- You don't need to implement anything for this part. Simply run the cells below.\n",
        "\n",
        "- A good way to verify that gradient descent is working correctly is to look\n",
        "at the value of $J(w,b)$ and check that it is decreasing with each step.\n",
        "\n",
        "- Assuming you have implemented the gradient and computed the cost correctly and you have an appropriate value for the learning rate alpha, $J(w,b)$ should never increase and should converge to a steady value by the end of the algorithm."
      ]
    },
    {
      "cell_type": "code",
      "execution_count": 17,
      "metadata": {
        "id": "yKJi4XNIpfqw"
      },
      "outputs": [],
      "source": [
        "def gradient_descent(x, y, w_in, b_in, cost_function, gradient_function, alpha, num_iters):\n",
        "    \"\"\"\n",
        "    Performs batch gradient descent to learn theta. Updates theta by taking\n",
        "    num_iters gradient steps with learning rate alpha\n",
        "\n",
        "    Args:\n",
        "      x :    (ndarray): Shape (m,)\n",
        "      y :    (ndarray): Shape (m,)\n",
        "      w_in, b_in : (scalar) Initial values of parameters of the model\n",
        "      cost_function: function to compute cost\n",
        "      gradient_function: function to compute the gradient\n",
        "      alpha : (float) Learning rate\n",
        "      num_iters : (int) number of iterations to run gradient descent\n",
        "    Returns\n",
        "      w : (ndarray): Shape (1,) Updated values of parameters of the model after\n",
        "          running gradient descent\n",
        "      b : (scalar)                Updated value of parameter of the model after\n",
        "          running gradient descent\n",
        "    \"\"\"\n",
        "\n",
        "    # number of training examples\n",
        "    m = len(x)\n",
        "\n",
        "    # An array to store cost J and w's at each iteration — primarily for graphing later\n",
        "    J_history = []\n",
        "    w_history = []\n",
        "    w = copy.deepcopy(w_in)  #avoid modifying global w within function\n",
        "    b = b_in\n",
        "\n",
        "    for i in range(num_iters):\n",
        "\n",
        "        # Calculate the gradient and update the parameters\n",
        "        dj_dw, dj_db = gradient_function(x, y, w, b )\n",
        "\n",
        "        # Update Parameters using w, b, alpha and gradient\n",
        "        w = w - alpha * dj_dw\n",
        "        b = b - alpha * dj_db\n",
        "\n",
        "        # Save cost J at each iteration\n",
        "        if i<100000:      # prevent resource exhaustion\n",
        "            cost =  cost_function(x, y, w, b)\n",
        "            J_history.append(cost)\n",
        "\n",
        "        # Print cost every at intervals 10 times or as many iterations if < 10\n",
        "        if i% math.ceil(num_iters/10) == 0:\n",
        "            w_history.append(w)\n",
        "            print(f\"Iteration {i:4}: Cost {float(J_history[-1]):8.2f}   \")\n",
        "\n",
        "    return w, b, J_history, w_history #return w and J,w history for graphing"
      ]
    },
    {
      "cell_type": "code",
      "execution_count": 18,
      "metadata": {
        "id": "81EooTABpfqx",
        "colab": {
          "base_uri": "https://localhost:8080/"
        },
        "outputId": "a58591dc-4910-4e08-da7b-79da0e0717ad"
      },
      "outputs": [
        {
          "output_type": "stream",
          "name": "stdout",
          "text": [
            "Iteration    0: Cost 63390.23   \n",
            "Iteration  150: Cost 49974.78   \n",
            "Iteration  300: Cost 46693.16   \n",
            "Iteration  450: Cost 44783.23   \n",
            "Iteration  600: Cost 43671.63   \n",
            "Iteration  750: Cost 43024.66   \n",
            "Iteration  900: Cost 42648.12   \n",
            "Iteration 1050: Cost 42428.97   \n",
            "Iteration 1200: Cost 42301.42   \n",
            "Iteration 1350: Cost 42227.19   \n",
            "w,b found by gradient descent: 1.166362350335582 -3.63029143940436\n"
          ]
        }
      ],
      "source": [
        "# initialize fitting parameters. Recall that the shape of w is (n,)\n",
        "initial_w = 0.\n",
        "initial_b = 0.\n",
        "\n",
        "# some gradient descent settings\n",
        "iterations = 1500\n",
        "alpha = 0.01\n",
        "\n",
        "w,b,_,_ = gradient_descent(x_train ,y_train, initial_w, initial_b,\n",
        "                     compute_cost, compute_gradient, alpha, iterations)\n",
        "print(\"w,b found by gradient descent:\", w, b)"
      ]
    },
    {
      "cell_type": "markdown",
      "metadata": {
        "id": "kUDCwqXBpfqy"
      },
      "source": [
        "We will now use the final parameters from gradient descent to plot the linear fit.\n",
        "\n",
        "Recall that we can get the prediction for a single example $f(x^{(i)})= wx^{(i)}+b$.\n",
        "\n",
        "To calculate the predictions on the entire dataset, we can loop through all the training examples and calculate the prediction for each example. This is shown in the code block below."
      ]
    },
    {
      "cell_type": "code",
      "execution_count": 19,
      "metadata": {
        "id": "jRnm3Uu8pfqy"
      },
      "outputs": [],
      "source": [
        "m = x_train.shape[0]\n",
        "predicted = np.zeros(m)\n",
        "\n",
        "for i in range(m):\n",
        "    predicted[i] = w * x_train[i] + b"
      ]
    },
    {
      "cell_type": "code",
      "execution_count": 22,
      "metadata": {
        "id": "FPyB0qEqpfqz",
        "colab": {
          "base_uri": "https://localhost:8080/",
          "height": 472
        },
        "outputId": "dbd81536-5faa-49f6-fcf9-fc0810162ce3"
      },
      "outputs": [
        {
          "output_type": "display_data",
          "data": {
            "text/plain": [
              "<Figure size 640x480 with 1 Axes>"
            ],
            "image/png": "[encoded data removed]"
          },
          "metadata": {}
        }
      ],
      "source": [
        "# Write the code to Plot the linear fit\n",
        "\n",
        "plt.plot(x_train, predicted, label = 'Linear fit') # ' write the code here'\n",
        "\n",
        "# Create a scatter plot of the data.\n",
        "\n",
        "plt.scatter(x_train, y_train, marker='o', c='r', label ='Training samples')\n",
        "\n",
        "plt.title('Profits vs. Population per city')\n",
        "plt.xlabel('Population of City in 10,000s')\n",
        "plt.ylabel('Profit in $10,000')\n",
        "plt.legend()\n",
        "plt.show()\n",
        "\n"
      ]
    },
    {
      "cell_type": "markdown",
      "metadata": {
        "id": "hCp0NJAfpfqz"
      },
      "source": [
        "Your final values of $w,b$ can also be used to make predictions on profits. Let's predict what the profit would be in areas of 35,000 and 70,000 people.\n",
        "\n",
        "- The model takes in population of a city in 10,000s as input.\n",
        "\n",
        "- Therefore, 35,000 people can be translated into an input to the model as `np.array([3.5])`\n",
        "\n",
        "- Similarly, 70,000 people can be translated into an input to the model as `np.array([7.])`\n"
      ]
    },
    {
      "cell_type": "code",
      "execution_count": 23,
      "metadata": {
        "id": "0ZYpFJGYpfq0",
        "colab": {
          "base_uri": "https://localhost:8080/"
        },
        "outputId": "b44ccfee-e09b-4728-8f92-37971c28f71e"
      },
      "outputs": [
        {
          "output_type": "stream",
          "name": "stdout",
          "text": [
            "For population = 35,000, we predict a profit of $4519.77\n",
            "For population = 70,000, we predict a profit of $45342.45\n"
          ]
        }
      ],
      "source": [
        "predict1 = 3.5 * w + b\n",
        "print('For population = 35,000, we predict a profit of $%.2f' % (predict1*10000))\n",
        "\n",
        "predict2 = 7.0 * w + b\n",
        "print('For population = 70,000, we predict a profit of $%.2f' % (predict2*10000))"
      ]
    },
    {
      "cell_type": "code",
      "execution_count": null,
      "metadata": {
        "id": "jJVGGVIzpfq1"
      },
      "outputs": [],
      "source": []
    },
    {
      "cell_type": "code",
      "execution_count": null,
      "metadata": {
        "id": "Y7idFQdBpfq1"
      },
      "outputs": [],
      "source": []
    }
  ],
  "metadata": {
    "kernelspec": {
      "display_name": "Python 3",
      "language": "python",
      "name": "python3"
    },
    "language_info": {
      "codemirror_mode": {
        "name": "ipython",
        "version": 3
      },
      "file_extension": ".py",
      "mimetype": "text/x-python",
      "name": "python",
      "nbconvert_exporter": "python",
      "pygments_lexer": "ipython3",
      "version": "3.7.7"
    },
    "colab": {
      "provenance": [],
      "toc_visible": true,
      "include_colab_link": true
    }
  },
  "nbformat": 4,
  "nbformat_minor": 0
}