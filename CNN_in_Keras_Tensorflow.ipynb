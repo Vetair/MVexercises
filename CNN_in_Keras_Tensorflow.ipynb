{
  "nbformat": 4,
  "nbformat_minor": 0,
  "metadata": {
    "colab": {
      "provenance": [],
      "mount_file_id": "1y01VAza-aBDwirPT-8GHR8wM3a4IoesK",
      "authorship_tag": "ABX9TyMVc6h6GiyE+pokQ2tDvwnH",
      "include_colab_link": true
    },
    "kernelspec": {
      "name": "python3",
      "display_name": "Python 3"
    },
    "language_info": {
      "name": "python"
    }
  },
  "cells": [
    {
      "cell_type": "markdown",
      "metadata": {
        "id": "view-in-github",
        "colab_type": "text"
      },
      "source": [
        "<a href=\"https://colab.research.google.com/github/Vetair/MVexercises/blob/main/CNN_in_Keras_Tensorflow.ipynb\" target=\"_parent\"><img src=\"https://colab.research.google.com/assets/colab-badge.svg\" alt=\"Open In Colab\"/></a>"
      ]
    },
    {
      "cell_type": "code",
      "execution_count": 1,
      "metadata": {
        "colab": {
          "base_uri": "https://localhost:8080/"
        },
        "id": "epCyrHcgxN15",
        "outputId": "1e33b307-90b5-4e0a-b9c8-87f284f71516"
      },
      "outputs": [
        {
          "output_type": "stream",
          "name": "stdout",
          "text": [
            "Drive already mounted at /content/drive; to attempt to forcibly remount, call drive.mount(\"/content/drive\", force_remount=True).\n"
          ]
        }
      ],
      "source": [
        "from google.colab import drive\n",
        "drive.mount('/content/drive')"
      ]
    },
    {
      "cell_type": "code",
      "source": [
        "# import libraries\n",
        "import os\n",
        "import numpy as np\n",
        "from keras.preprocessing.image import ImageDataGenerator"
      ],
      "metadata": {
        "id": "YWg8rMJXxi2-"
      },
      "execution_count": 14,
      "outputs": []
    },
    {
      "cell_type": "code",
      "source": [
        "# Define paths for your dataset\n",
        "train_dir = r'/content/drive/MyDrive/Colab Notebooks/Datasets/data_mv/train'\n",
        "test_dir = r'/content/drive/MyDrive/Colab Notebooks/Datasets/data_mv/test'"
      ],
      "metadata": {
        "id": "VUc3Fl_rxo9f"
      },
      "execution_count": 15,
      "outputs": []
    },
    {
      "cell_type": "code",
      "source": [
        "# Preprocess the data and slipt to train, test and validation\n",
        "train_datagen = ImageDataGenerator(rescale=1.0/255)\n",
        "train_generator = train_datagen.flow_from_directory(\n",
        "    train_dir,\n",
        "    target_size=(128, 128),\n",
        "    batch_size=16,\n",
        "    class_mode='categorical',\n",
        "    color_mode='rgb',\n",
        ")\n",
        "\n",
        "test_datagen = ImageDataGenerator(rescale=1.0/255)\n",
        "test_generator = test_datagen.flow_from_directory(\n",
        "    test_dir,\n",
        "    target_size=(128, 128),\n",
        "    batch_size=16,\n",
        "    class_mode='categorical',\n",
        "    color_mode='rgb'\n",
        ")\n",
        "\n",
        "x_train, y_train = train_generator.next()\n",
        "x_test, y_test = test_generator.next()\n",
        "\n",
        "# print(x_train.shape)\n",
        "# print(y_train.shape)\n",
        "# print(x_test.shape)\n",
        "# print(y_test.shape)\n",
        "\n",
        "# validation_split = 0.2\n",
        "# split_index = int((1 - validation_split) * len(x_train))\n",
        "\n",
        "# print(split_index)\n",
        "\n",
        "# x_validation = x_train[split_index:]\n",
        "# y_validation = y_train[split_index:]\n",
        "# print(x_validation.shape)\n",
        "# print(y_validation.shape)\n",
        "\n",
        "# x_train = x_train[:split_index]\n",
        "# y_train = y_train[:split_index]\n",
        "\n",
        "# print(x_train.shape)\n",
        "# print(y_train.shape)"
      ],
      "metadata": {
        "colab": {
          "base_uri": "https://localhost:8080/"
        },
        "id": "O6Z2fqRgxrVn",
        "outputId": "d1c4acc4-48bc-46f8-ba4c-debf2b5dec72"
      },
      "execution_count": 22,
      "outputs": [
        {
          "output_type": "stream",
          "name": "stdout",
          "text": [
            "Found 48 images belonging to 3 classes.\n",
            "Found 24 images belonging to 3 classes.\n"
          ]
        }
      ]
    },
    {
      "cell_type": "code",
      "source": [
        "# Build the CNN model\n",
        "from keras.models import Sequential\n",
        "from keras.layers import Conv2D, Dense, MaxPooling2D, Flatten\n",
        "\n",
        "model = Sequential([\n",
        "    Conv2D(64,(3,3),activation='relu',input_shape=(128,128,3)),\n",
        "    MaxPooling2D(2,2),\n",
        "    Conv2D(128,(3,3),activation='relu'),\n",
        "    MaxPooling2D(2,2),\n",
        "    Conv2D(256,(3,3),activation='relu'),\n",
        "    Flatten(),\n",
        "    Dense(units=500,activation='relu'),\n",
        "    Dense(units=3,activation='softmax'),\n",
        "\n",
        "])"
      ],
      "metadata": {
        "id": "Ce5MiW_-xwcj"
      },
      "execution_count": 2,
      "outputs": []
    },
    {
      "cell_type": "code",
      "source": [
        "# Display the model summary\n",
        "model.summary()"
      ],
      "metadata": {
        "colab": {
          "base_uri": "https://localhost:8080/"
        },
        "id": "AvcVEGoT0M1g",
        "outputId": "0c051ffc-7ce6-4d69-c5b9-c70542c7e5a7"
      },
      "execution_count": 3,
      "outputs": [
        {
          "output_type": "stream",
          "name": "stdout",
          "text": [
            "Model: \"sequential\"\n",
            "_________________________________________________________________\n",
            " Layer (type)                Output Shape              Param #   \n",
            "=================================================================\n",
            " conv2d (Conv2D)             (None, 126, 126, 64)      1792      \n",
            "                                                                 \n",
            " max_pooling2d (MaxPooling2  (None, 63, 63, 64)        0         \n",
            " D)                                                              \n",
            "                                                                 \n",
            " conv2d_1 (Conv2D)           (None, 61, 61, 128)       73856     \n",
            "                                                                 \n",
            " max_pooling2d_1 (MaxPoolin  (None, 30, 30, 128)       0         \n",
            " g2D)                                                            \n",
            "                                                                 \n",
            " conv2d_2 (Conv2D)           (None, 28, 28, 256)       295168    \n",
            "                                                                 \n",
            " flatten (Flatten)           (None, 200704)            0         \n",
            "                                                                 \n",
            " dense (Dense)               (None, 500)               100352500 \n",
            "                                                                 \n",
            " dense_1 (Dense)             (None, 3)                 1503      \n",
            "                                                                 \n",
            "=================================================================\n",
            "Total params: 100724819 (384.23 MB)\n",
            "Trainable params: 100724819 (384.23 MB)\n",
            "Non-trainable params: 0 (0.00 Byte)\n",
            "_________________________________________________________________\n"
          ]
        }
      ]
    },
    {
      "cell_type": "code",
      "source": [
        "# Compile the model\n",
        "model.compile(optimizer='adam', loss='categorical_crossentropy', metrics=['accuracy'])"
      ],
      "metadata": {
        "id": "md0EtSd0xzb8"
      },
      "execution_count": 23,
      "outputs": []
    },
    {
      "cell_type": "code",
      "source": [
        "# Model fitting to train\n",
        "history=model.fit(x_train, y_train, batch_size=32, epochs=10, validation_split=0.2)"
      ],
      "metadata": {
        "colab": {
          "base_uri": "https://localhost:8080/"
        },
        "id": "vft_xoKVx1oo",
        "outputId": "97d0b921-900a-4346-83a7-c3232e68777a"
      },
      "execution_count": 24,
      "outputs": [
        {
          "output_type": "stream",
          "name": "stdout",
          "text": [
            "Epoch 1/10\n",
            "1/1 [==============================] - 5s 5s/step - loss: 1.1234 - accuracy: 0.1667 - val_loss: 24.0958 - val_accuracy: 0.5000\n",
            "Epoch 2/10\n",
            "1/1 [==============================] - 5s 5s/step - loss: 22.9067 - accuracy: 0.5000 - val_loss: 1.6985 - val_accuracy: 0.2500\n",
            "Epoch 3/10\n",
            "1/1 [==============================] - 3s 3s/step - loss: 0.8448 - accuracy: 0.6667 - val_loss: 2.0187 - val_accuracy: 0.2500\n",
            "Epoch 4/10\n",
            "1/1 [==============================] - 3s 3s/step - loss: 1.5220 - accuracy: 0.2500 - val_loss: 1.2062 - val_accuracy: 0.5000\n",
            "Epoch 5/10\n",
            "1/1 [==============================] - 3s 3s/step - loss: 0.6991 - accuracy: 0.5833 - val_loss: 1.1216 - val_accuracy: 0.5000\n",
            "Epoch 6/10\n",
            "1/1 [==============================] - 4s 4s/step - loss: 0.5986 - accuracy: 0.8333 - val_loss: 1.3786 - val_accuracy: 0.5000\n",
            "Epoch 7/10\n",
            "1/1 [==============================] - 3s 3s/step - loss: 0.4631 - accuracy: 0.6667 - val_loss: 1.4046 - val_accuracy: 0.2500\n",
            "Epoch 8/10\n",
            "1/1 [==============================] - 3s 3s/step - loss: 0.3068 - accuracy: 1.0000 - val_loss: 1.2018 - val_accuracy: 0.5000\n",
            "Epoch 9/10\n",
            "1/1 [==============================] - 3s 3s/step - loss: 0.1011 - accuracy: 1.0000 - val_loss: 1.7804 - val_accuracy: 0.5000\n",
            "Epoch 10/10\n",
            "1/1 [==============================] - 4s 4s/step - loss: 0.1068 - accuracy: 1.0000 - val_loss: 1.4519 - val_accuracy: 0.2500\n"
          ]
        }
      ]
    },
    {
      "cell_type": "code",
      "source": [
        "# Evaluate the model\n",
        "test_loss, test_acc = model.evaluate(x_test, y_test)\n",
        "print(\"Test loss:\",test_loss)\n",
        "print(\"Test accuracy:\", test_acc)"
      ],
      "metadata": {
        "colab": {
          "base_uri": "https://localhost:8080/"
        },
        "id": "bjwOlWqAx353",
        "outputId": "4bd09c74-55bc-4cbe-b7ac-cd0c2ef5c8ec"
      },
      "execution_count": 27,
      "outputs": [
        {
          "output_type": "stream",
          "name": "stdout",
          "text": [
            "1/1 [==============================] - 1s 596ms/step - loss: 1.2371 - accuracy: 0.5625\n",
            "Test loss: 1.2370522022247314\n",
            "Test accuracy: 0.5625\n"
          ]
        }
      ]
    },
    {
      "cell_type": "code",
      "source": [
        "# Visualization\n",
        "plt.plot(history.history['accuracy'], label='accuracy')\n",
        "plt.plot(history.history['val_accuracy'], label='val_accuracy')\n",
        "plt.legend()\n",
        "plt.show()"
      ],
      "metadata": {
        "colab": {
          "base_uri": "https://localhost:8080/",
          "height": 430
        },
        "id": "Vc6kTFRd6CEW",
        "outputId": "212290a1-99de-4ed5-9b88-92fe796cfab7"
      },
      "execution_count": 26,
      "outputs": [
        {
          "output_type": "display_data",
          "data": {
            "text/plain": [
              "<Figure size 640x480 with 1 Axes>"
            ],
            "image/png": "[encoded data removed]"
          },
          "metadata": {}
        }
      ]
    }
  ]
}